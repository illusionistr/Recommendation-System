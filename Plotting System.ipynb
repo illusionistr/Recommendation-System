{
 "cells": [
  {
   "cell_type": "code",
   "execution_count": null,
   "id": "1178504a",
   "metadata": {},
   "outputs": [],
   "source": [
    "import streamlit as st\n",
    "import pandas as pd\n",
    "import seaborn as sns\n",
    "import matplotlib.pyplot as plt"
   ]
  },
  {
   "cell_type": "code",
   "execution_count": null,
   "id": "8e78937a",
   "metadata": {},
   "outputs": [],
   "source": [
    "uploaded_file = st.file_uploader(\"Upload a CSV or Excel file\", type=[\"csv\", \"xlsx\"])"
   ]
  },
  {
   "cell_type": "code",
   "execution_count": null,
   "id": "24c14b3a",
   "metadata": {},
   "outputs": [],
   "source": [
    "if uploaded_file is not None:\n",
    "    data = pd.read_csv(uploaded_file)  # Use pd.read_excel for Excel files\n",
    "    st.write(\"Data Preview:\")\n",
    "    st.write(data.head())\n",
    "\n",
    "    selected_columns = st.multiselect(\"Select columns to plot\", data.columns)\n"
   ]
  },
  {
   "cell_type": "code",
   "execution_count": null,
   "id": "45930dd0",
   "metadata": {},
   "outputs": [],
   "source": [
    "if selected_columns:\n",
    "    plot_type = st.selectbox(\"Select plot type\", [\"bar\", \"scatter\"])\n",
    "\n",
    "    if plot_type == \"bar\":\n",
    "        st.subheader(\"Bar Plot\")\n",
    "        x_column = st.selectbox(\"Select x-axis column\", selected_columns)\n",
    "        y_column = st.selectbox(\"Select y-axis column\", selected_columns)\n",
    "\n",
    "        if st.button(\"Generate Bar Plot\"):\n",
    "            st.pyplot(sns.barplot(x=x_column, y=y_column, data=data))\n",
    "    # Add more plot types as needed\n"
   ]
  },
  {
   "cell_type": "code",
   "execution_count": null,
   "id": "971c826f",
   "metadata": {},
   "outputs": [],
   "source": [
    "if __name__ == '__main__':\n",
    "    st.title(\"Data Visualizer\")\n",
    "    main()\n"
   ]
  }
 ],
 "metadata": {
  "kernelspec": {
   "display_name": "Python 3 (ipykernel)",
   "language": "python",
   "name": "python3"
  },
  "language_info": {
   "codemirror_mode": {
    "name": "ipython",
    "version": 3
   },
   "file_extension": ".py",
   "mimetype": "text/x-python",
   "name": "python",
   "nbconvert_exporter": "python",
   "pygments_lexer": "ipython3",
   "version": "3.11.4"
  }
 },
 "nbformat": 4,
 "nbformat_minor": 5
}
